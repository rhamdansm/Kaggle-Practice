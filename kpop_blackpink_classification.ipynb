{
  "nbformat": 4,
  "nbformat_minor": 0,
  "metadata": {
    "colab": {
      "name": "kpop blackpink classification.ipynb",
      "provenance": []
    },
    "kernelspec": {
      "name": "python3",
      "display_name": "Python 3"
    },
    "language_info": {
      "name": "python"
    },
    "accelerator": "GPU",
    "gpuClass": "standard"
  },
  "cells": [
    {
      "cell_type": "code",
      "execution_count": null,
      "metadata": {
        "id": "DW9Jw7og4CtX",
        "colab": {
          "base_uri": "https://localhost:8080/"
        },
        "outputId": "19b2babd-1986-4892-b45d-9ff2cfc686df"
      },
      "outputs": [
        {
          "output_type": "stream",
          "name": "stdout",
          "text": [
            "Mounted at /content/gdrive\n"
          ]
        }
      ],
      "source": [
        "from google.colab import drive\n",
        "drive.mount('/content/gdrive')"
      ]
    },
    {
      "cell_type": "code",
      "source": [
        "!pip install -q kaggle"
      ],
      "metadata": {
        "id": "lB0SaQFIAu_o"
      },
      "execution_count": null,
      "outputs": []
    },
    {
      "cell_type": "code",
      "source": [
        "!cp '/content/gdrive/MyDrive/kaggle Competition/kaggle.json' 'kaggle.json'"
      ],
      "metadata": {
        "id": "20ZoCPaYAwbs"
      },
      "execution_count": null,
      "outputs": []
    },
    {
      "cell_type": "code",
      "source": [
        "!mkdir ~/.kaggle"
      ],
      "metadata": {
        "id": "zgrclF2KAyld"
      },
      "execution_count": null,
      "outputs": []
    },
    {
      "cell_type": "code",
      "source": [
        "!cp kaggle.json ~/.kaggle/"
      ],
      "metadata": {
        "id": "5D6-hPwVAz79"
      },
      "execution_count": null,
      "outputs": []
    },
    {
      "cell_type": "code",
      "source": [
        "! chmod 600 ~/.kaggle/kaggle.json"
      ],
      "metadata": {
        "id": "IWNiTTHiA1bU"
      },
      "execution_count": null,
      "outputs": []
    },
    {
      "cell_type": "code",
      "source": [
        "! kaggle datasets download -d vkehfdl1/kidf-kpop-idol-dataset-female"
      ],
      "metadata": {
        "colab": {
          "base_uri": "https://localhost:8080/"
        },
        "id": "XVOciY1aA3f9",
        "outputId": "a2af01e9-a361-4c5f-dd29-cea7a93e11a6"
      },
      "execution_count": null,
      "outputs": [
        {
          "output_type": "stream",
          "name": "stdout",
          "text": [
            "Downloading kidf-kpop-idol-dataset-female.zip to /content\n",
            " 99% 1.02G/1.03G [00:36<00:00, 39.6MB/s]\n",
            "100% 1.03G/1.03G [00:36<00:00, 30.1MB/s]\n"
          ]
        }
      ]
    },
    {
      "cell_type": "code",
      "source": [
        "!unzip /content/kidf-kpop-idol-dataset-female.zip"
      ],
      "metadata": {
        "id": "cpqShpMhA31t"
      },
      "execution_count": null,
      "outputs": []
    },
    {
      "cell_type": "markdown",
      "source": [
        "## Data Understanding"
      ],
      "metadata": {
        "id": "6EhrTjWQBgxN"
      }
    },
    {
      "cell_type": "code",
      "source": [
        "import numpy as np\n",
        "import pandas as pd\n",
        "import urllib.request\n",
        "import zipfile\n",
        "import tensorflow as tf\n",
        "from glob import glob\n",
        "from tqdm import tqdm\n",
        "import matplotlib.pyplot as plt\n",
        "import seaborn as sns\n",
        "import cv2\n",
        "from PIL import Image\n",
        "import os\n",
        "import shutil\n",
        "from keras_preprocessing.image import ImageDataGenerator\n",
        "from tensorflow.keras.optimizers import RMSprop"
      ],
      "metadata": {
        "id": "Am_f3gVIBjLM"
      },
      "execution_count": null,
      "outputs": []
    },
    {
      "cell_type": "code",
      "source": [
        "data = pd.read_csv(\"kid_f_train.csv\")\n",
        "data.head(10)"
      ],
      "metadata": {
        "colab": {
          "base_uri": "https://localhost:8080/",
          "height": 363
        },
        "id": "R3N4aDrDB5A8",
        "outputId": "569dfa27-572f-424f-84e4-bc4851499a05"
      },
      "execution_count": null,
      "outputs": [
        {
          "output_type": "execute_result",
          "data": {
            "text/plain": [
              "  file_name   name\n",
              "0     5.jpg  yujin\n",
              "1     8.jpg  yujin\n",
              "2    17.jpg  yujin\n",
              "3    23.jpg  yujin\n",
              "4    26.jpg  yujin\n",
              "5    29.jpg  yujin\n",
              "6    30.jpg  yujin\n",
              "7    34.jpg  yujin\n",
              "8    35.jpg  yujin\n",
              "9    38.jpg  yujin"
            ],
            "text/html": [
              "\n",
              "  <div id=\"df-ab3eab3f-a3d4-4649-9fc0-bb4794b51c5f\">\n",
              "    <div class=\"colab-df-container\">\n",
              "      <div>\n",
              "<style scoped>\n",
              "    .dataframe tbody tr th:only-of-type {\n",
              "        vertical-align: middle;\n",
              "    }\n",
              "\n",
              "    .dataframe tbody tr th {\n",
              "        vertical-align: top;\n",
              "    }\n",
              "\n",
              "    .dataframe thead th {\n",
              "        text-align: right;\n",
              "    }\n",
              "</style>\n",
              "<table border=\"1\" class=\"dataframe\">\n",
              "  <thead>\n",
              "    <tr style=\"text-align: right;\">\n",
              "      <th></th>\n",
              "      <th>file_name</th>\n",
              "      <th>name</th>\n",
              "    </tr>\n",
              "  </thead>\n",
              "  <tbody>\n",
              "    <tr>\n",
              "      <th>0</th>\n",
              "      <td>5.jpg</td>\n",
              "      <td>yujin</td>\n",
              "    </tr>\n",
              "    <tr>\n",
              "      <th>1</th>\n",
              "      <td>8.jpg</td>\n",
              "      <td>yujin</td>\n",
              "    </tr>\n",
              "    <tr>\n",
              "      <th>2</th>\n",
              "      <td>17.jpg</td>\n",
              "      <td>yujin</td>\n",
              "    </tr>\n",
              "    <tr>\n",
              "      <th>3</th>\n",
              "      <td>23.jpg</td>\n",
              "      <td>yujin</td>\n",
              "    </tr>\n",
              "    <tr>\n",
              "      <th>4</th>\n",
              "      <td>26.jpg</td>\n",
              "      <td>yujin</td>\n",
              "    </tr>\n",
              "    <tr>\n",
              "      <th>5</th>\n",
              "      <td>29.jpg</td>\n",
              "      <td>yujin</td>\n",
              "    </tr>\n",
              "    <tr>\n",
              "      <th>6</th>\n",
              "      <td>30.jpg</td>\n",
              "      <td>yujin</td>\n",
              "    </tr>\n",
              "    <tr>\n",
              "      <th>7</th>\n",
              "      <td>34.jpg</td>\n",
              "      <td>yujin</td>\n",
              "    </tr>\n",
              "    <tr>\n",
              "      <th>8</th>\n",
              "      <td>35.jpg</td>\n",
              "      <td>yujin</td>\n",
              "    </tr>\n",
              "    <tr>\n",
              "      <th>9</th>\n",
              "      <td>38.jpg</td>\n",
              "      <td>yujin</td>\n",
              "    </tr>\n",
              "  </tbody>\n",
              "</table>\n",
              "</div>\n",
              "      <button class=\"colab-df-convert\" onclick=\"convertToInteractive('df-ab3eab3f-a3d4-4649-9fc0-bb4794b51c5f')\"\n",
              "              title=\"Convert this dataframe to an interactive table.\"\n",
              "              style=\"display:none;\">\n",
              "        \n",
              "  <svg xmlns=\"http://www.w3.org/2000/svg\" height=\"24px\"viewBox=\"0 0 24 24\"\n",
              "       width=\"24px\">\n",
              "    <path d=\"M0 0h24v24H0V0z\" fill=\"none\"/>\n",
              "    <path d=\"M18.56 5.44l.94 2.06.94-2.06 2.06-.94-2.06-.94-.94-2.06-.94 2.06-2.06.94zm-11 1L8.5 8.5l.94-2.06 2.06-.94-2.06-.94L8.5 2.5l-.94 2.06-2.06.94zm10 10l.94 2.06.94-2.06 2.06-.94-2.06-.94-.94-2.06-.94 2.06-2.06.94z\"/><path d=\"M17.41 7.96l-1.37-1.37c-.4-.4-.92-.59-1.43-.59-.52 0-1.04.2-1.43.59L10.3 9.45l-7.72 7.72c-.78.78-.78 2.05 0 2.83L4 21.41c.39.39.9.59 1.41.59.51 0 1.02-.2 1.41-.59l7.78-7.78 2.81-2.81c.8-.78.8-2.07 0-2.86zM5.41 20L4 18.59l7.72-7.72 1.47 1.35L5.41 20z\"/>\n",
              "  </svg>\n",
              "      </button>\n",
              "      \n",
              "  <style>\n",
              "    .colab-df-container {\n",
              "      display:flex;\n",
              "      flex-wrap:wrap;\n",
              "      gap: 12px;\n",
              "    }\n",
              "\n",
              "    .colab-df-convert {\n",
              "      background-color: #E8F0FE;\n",
              "      border: none;\n",
              "      border-radius: 50%;\n",
              "      cursor: pointer;\n",
              "      display: none;\n",
              "      fill: #1967D2;\n",
              "      height: 32px;\n",
              "      padding: 0 0 0 0;\n",
              "      width: 32px;\n",
              "    }\n",
              "\n",
              "    .colab-df-convert:hover {\n",
              "      background-color: #E2EBFA;\n",
              "      box-shadow: 0px 1px 2px rgba(60, 64, 67, 0.3), 0px 1px 3px 1px rgba(60, 64, 67, 0.15);\n",
              "      fill: #174EA6;\n",
              "    }\n",
              "\n",
              "    [theme=dark] .colab-df-convert {\n",
              "      background-color: #3B4455;\n",
              "      fill: #D2E3FC;\n",
              "    }\n",
              "\n",
              "    [theme=dark] .colab-df-convert:hover {\n",
              "      background-color: #434B5C;\n",
              "      box-shadow: 0px 1px 3px 1px rgba(0, 0, 0, 0.15);\n",
              "      filter: drop-shadow(0px 1px 2px rgba(0, 0, 0, 0.3));\n",
              "      fill: #FFFFFF;\n",
              "    }\n",
              "  </style>\n",
              "\n",
              "      <script>\n",
              "        const buttonEl =\n",
              "          document.querySelector('#df-ab3eab3f-a3d4-4649-9fc0-bb4794b51c5f button.colab-df-convert');\n",
              "        buttonEl.style.display =\n",
              "          google.colab.kernel.accessAllowed ? 'block' : 'none';\n",
              "\n",
              "        async function convertToInteractive(key) {\n",
              "          const element = document.querySelector('#df-ab3eab3f-a3d4-4649-9fc0-bb4794b51c5f');\n",
              "          const dataTable =\n",
              "            await google.colab.kernel.invokeFunction('convertToInteractive',\n",
              "                                                     [key], {});\n",
              "          if (!dataTable) return;\n",
              "\n",
              "          const docLinkHtml = 'Like what you see? Visit the ' +\n",
              "            '<a target=\"_blank\" href=https://colab.research.google.com/notebooks/data_table.ipynb>data table notebook</a>'\n",
              "            + ' to learn more about interactive tables.';\n",
              "          element.innerHTML = '';\n",
              "          dataTable['output_type'] = 'display_data';\n",
              "          await google.colab.output.renderOutput(dataTable, element);\n",
              "          const docLink = document.createElement('div');\n",
              "          docLink.innerHTML = docLinkHtml;\n",
              "          element.appendChild(docLink);\n",
              "        }\n",
              "      </script>\n",
              "    </div>\n",
              "  </div>\n",
              "  "
            ]
          },
          "metadata": {},
          "execution_count": 10
        }
      ]
    },
    {
      "cell_type": "code",
      "source": [
        "data.info()"
      ],
      "metadata": {
        "colab": {
          "base_uri": "https://localhost:8080/"
        },
        "id": "35BW5I0Ncb5u",
        "outputId": "28e81f32-53a3-4ea2-cc6e-535c580ee682"
      },
      "execution_count": null,
      "outputs": [
        {
          "output_type": "stream",
          "name": "stdout",
          "text": [
            "<class 'pandas.core.frame.DataFrame'>\n",
            "RangeIndex: 5591 entries, 0 to 5590\n",
            "Data columns (total 2 columns):\n",
            " #   Column     Non-Null Count  Dtype \n",
            "---  ------     --------------  ----- \n",
            " 0   file_name  5591 non-null   object\n",
            " 1   name       5591 non-null   object\n",
            "dtypes: object(2)\n",
            "memory usage: 87.5+ KB\n"
          ]
        }
      ]
    },
    {
      "cell_type": "markdown",
      "source": [
        "## Data Wrangling"
      ],
      "metadata": {
        "id": "r3j-eM08DD5d"
      }
    },
    {
      "cell_type": "code",
      "source": [
        "members = [\"jennie\", \"lisa\", \"jisoo\", \"rose\"]\n",
        "\n",
        "blackpink = data[data[\"name\"].isin(members)]"
      ],
      "metadata": {
        "id": "zBFw24PTXY1t"
      },
      "execution_count": null,
      "outputs": []
    },
    {
      "cell_type": "code",
      "source": [
        "ax = sns.countplot(data=blackpink, x='name')\n",
        "ax.set_title(\"Total data of Blackpink's member\")"
      ],
      "metadata": {
        "colab": {
          "base_uri": "https://localhost:8080/",
          "height": 312
        },
        "id": "_CrUDPkfc8kw",
        "outputId": "0defc3ae-185f-480e-93db-d5ac9573712a"
      },
      "execution_count": null,
      "outputs": [
        {
          "output_type": "execute_result",
          "data": {
            "text/plain": [
              "Text(0.5, 1.0, \"Total data of Blackpink's member\")"
            ]
          },
          "metadata": {},
          "execution_count": 13
        },
        {
          "output_type": "display_data",
          "data": {
            "text/plain": [
              "<Figure size 432x288 with 1 Axes>"
            ],
            "image/png": "[encoded data removed]"
          },
          "metadata": {
            "needs_background": "light"
          }
        }
      ]
    },
    {
      "cell_type": "code",
      "source": [
        "os.mkdir(\"data\")\n",
        "os.mkdir(\"data/train\")\n",
        "os.mkdir(\"data/test\")"
      ],
      "metadata": {
        "id": "aCkXVyY5aK2n"
      },
      "execution_count": null,
      "outputs": []
    },
    {
      "cell_type": "code",
      "source": [
        "members = [\"jisoo\", \"lisa\", \"jennie\", \"rose\"]\n",
        "for i in members:\n",
        "  os.mkdir(f\"data/train/{i}\")\n",
        "  os.mkdir(f\"data/test/{i}\")"
      ],
      "metadata": {
        "id": "D_ccJEb3DF69"
      },
      "execution_count": null,
      "outputs": []
    },
    {
      "cell_type": "code",
      "source": [
        "from sklearn.model_selection import train_test_split\n",
        "\n",
        "train, test = train_test_split(blackpink, test_size=0.2, random_state=0)\n",
        "train.reset_index(inplace=True)\n",
        "test.reset_index(inplace=True)"
      ],
      "metadata": {
        "id": "lYpsyF9YbF_H"
      },
      "execution_count": null,
      "outputs": []
    },
    {
      "cell_type": "code",
      "source": [
        "train.info()"
      ],
      "metadata": {
        "colab": {
          "base_uri": "https://localhost:8080/"
        },
        "id": "JmmS91FrcWWn",
        "outputId": "d2630faf-a8ac-4827-c1dc-c4cd40cd2a3c"
      },
      "execution_count": null,
      "outputs": [
        {
          "output_type": "stream",
          "name": "stdout",
          "text": [
            "<class 'pandas.core.frame.DataFrame'>\n",
            "RangeIndex: 3171 entries, 0 to 3170\n",
            "Data columns (total 3 columns):\n",
            " #   Column     Non-Null Count  Dtype \n",
            "---  ------     --------------  ----- \n",
            " 0   index      3171 non-null   int64 \n",
            " 1   file_name  3171 non-null   object\n",
            " 2   name       3171 non-null   object\n",
            "dtypes: int64(1), object(2)\n",
            "memory usage: 74.4+ KB\n"
          ]
        }
      ]
    },
    {
      "cell_type": "code",
      "source": [
        "test.info()"
      ],
      "metadata": {
        "colab": {
          "base_uri": "https://localhost:8080/"
        },
        "id": "LFh31_jAcjTO",
        "outputId": "97d3c46a-ff11-4067-a098-9622915fb6f4"
      },
      "execution_count": null,
      "outputs": [
        {
          "output_type": "stream",
          "name": "stdout",
          "text": [
            "<class 'pandas.core.frame.DataFrame'>\n",
            "RangeIndex: 793 entries, 0 to 792\n",
            "Data columns (total 3 columns):\n",
            " #   Column     Non-Null Count  Dtype \n",
            "---  ------     --------------  ----- \n",
            " 0   index      793 non-null    int64 \n",
            " 1   file_name  793 non-null    object\n",
            " 2   name       793 non-null    object\n",
            "dtypes: int64(1), object(2)\n",
            "memory usage: 18.7+ KB\n"
          ]
        }
      ]
    },
    {
      "cell_type": "code",
      "source": [
        "src_path = \"/content/HQ_512x512/HQ_512x512\"\n",
        "dst_path_train = \"/content/data/train\"\n",
        "dst_path_test = \"/content/data/test\"\n",
        "files_image = os.listdir('/content/HQ_512x512/HQ_512x512')"
      ],
      "metadata": {
        "id": "CTypN1lIDWyO"
      },
      "execution_count": null,
      "outputs": []
    },
    {
      "cell_type": "code",
      "source": [
        "def move_files(df, files_image, src_path, dst_path):\n",
        "  \n",
        "  blackpink_member = [\"jisoo\", \"lisa\", \"jennie\", \"rose\"]\n",
        "\n",
        "  for image in files_image:\n",
        "    for _, gambar in df.iterrows():\n",
        "      if image == gambar[\"file_name\"]:\n",
        "        if gambar[\"name\"] in blackpink_member:\n",
        "          src_file = os.path.join(src_path, image)\n",
        "          dst_file = os.path.join(dst_path, gambar[\"name\"], gambar[\"file_name\"])\n",
        "          shutil.move(src_file, dst_file)"
      ],
      "metadata": {
        "id": "110DA3QBkcWg"
      },
      "execution_count": null,
      "outputs": []
    },
    {
      "cell_type": "code",
      "source": [
        "move_files(train, files_image, src_path, dst_path_train)\n",
        "move_files(test, files_image, src_path, dst_path_test)"
      ],
      "metadata": {
        "id": "yl688vgGfRO5"
      },
      "execution_count": null,
      "outputs": []
    },
    {
      "cell_type": "code",
      "source": [
        "train_datagen = ImageDataGenerator(rescale=1/255)\n",
        "train_generator = train_datagen.flow_from_directory(\n",
        "        dst_path_train,\n",
        "        target_size=(150, 150),\n",
        "        batch_size=128,\n",
        "        class_mode='categorical')"
      ],
      "metadata": {
        "colab": {
          "base_uri": "https://localhost:8080/"
        },
        "id": "AN6cDrjchl7R",
        "outputId": "fbbc7068-3617-4057-9a10-0e588639a8ee"
      },
      "execution_count": null,
      "outputs": [
        {
          "output_type": "stream",
          "name": "stdout",
          "text": [
            "Found 3171 images belonging to 4 classes.\n"
          ]
        }
      ]
    },
    {
      "cell_type": "code",
      "source": [
        "val_datagen = ImageDataGenerator(rescale=1/255)\n",
        "val_generator = train_datagen.flow_from_directory(\n",
        "        dst_path_test,\n",
        "        target_size=(150, 150),\n",
        "        batch_size=128,\n",
        "        class_mode='categorical')"
      ],
      "metadata": {
        "colab": {
          "base_uri": "https://localhost:8080/"
        },
        "id": "D3qiF4eXh7hX",
        "outputId": "369c380d-a89e-493b-af93-71130d6b7547"
      },
      "execution_count": null,
      "outputs": [
        {
          "output_type": "stream",
          "name": "stdout",
          "text": [
            "Found 793 images belonging to 4 classes.\n"
          ]
        }
      ]
    },
    {
      "cell_type": "markdown",
      "source": [
        "## Create Model"
      ],
      "metadata": {
        "id": "LwGR7_3jj8Sx"
      }
    },
    {
      "cell_type": "code",
      "source": [
        "model = tf.keras.models.Sequential([\n",
        "    # Note the input shape is the desired size of the image 150x150 with 3 bytes color\n",
        "    # This is the first convolution\n",
        "    tf.keras.layers.Conv2D(64, (3,3), activation='relu', input_shape=(150, 150, 3)),\n",
        "    tf.keras.layers.MaxPooling2D(2, 2),\n",
        "    # The second convolution\n",
        "    tf.keras.layers.Conv2D(64, (3,3), activation='relu'),\n",
        "    tf.keras.layers.MaxPooling2D(2,2),\n",
        "    # The third convolution\n",
        "    tf.keras.layers.Conv2D(128, (3,3), activation='relu'),\n",
        "    tf.keras.layers.MaxPooling2D(2,2),\n",
        "    # The fourth convolution\n",
        "    tf.keras.layers.Conv2D(128, (3,3), activation='relu'),\n",
        "    tf.keras.layers.MaxPooling2D(2,2),\n",
        "    # Flatten the results to feed into a DNN\n",
        "    tf.keras.layers.Flatten(),\n",
        "    tf.keras.layers.Dropout(0.2),\n",
        "    # 512 neuron hidden layer\n",
        "    tf.keras.layers.Dense(512, activation='relu'),\n",
        "    tf.keras.layers.Dense(4, activation='softmax')\n",
        "])\n",
        "model.summary()"
      ],
      "metadata": {
        "colab": {
          "base_uri": "https://localhost:8080/"
        },
        "id": "6uAuo97DiDDQ",
        "outputId": "76b44b52-e975-466d-c11a-f24723195696"
      },
      "execution_count": null,
      "outputs": [
        {
          "output_type": "stream",
          "name": "stdout",
          "text": [
            "Model: \"sequential_4\"\n",
            "_________________________________________________________________\n",
            " Layer (type)                Output Shape              Param #   \n",
            "=================================================================\n",
            " conv2d_16 (Conv2D)          (None, 148, 148, 64)      1792      \n",
            "                                                                 \n",
            " max_pooling2d_16 (MaxPoolin  (None, 74, 74, 64)       0         \n",
            " g2D)                                                            \n",
            "                                                                 \n",
            " conv2d_17 (Conv2D)          (None, 72, 72, 64)        36928     \n",
            "                                                                 \n",
            " max_pooling2d_17 (MaxPoolin  (None, 36, 36, 64)       0         \n",
            " g2D)                                                            \n",
            "                                                                 \n",
            " conv2d_18 (Conv2D)          (None, 34, 34, 128)       73856     \n",
            "                                                                 \n",
            " max_pooling2d_18 (MaxPoolin  (None, 17, 17, 128)      0         \n",
            " g2D)                                                            \n",
            "                                                                 \n",
            " conv2d_19 (Conv2D)          (None, 15, 15, 128)       147584    \n",
            "                                                                 \n",
            " max_pooling2d_19 (MaxPoolin  (None, 7, 7, 128)        0         \n",
            " g2D)                                                            \n",
            "                                                                 \n",
            " flatten_4 (Flatten)         (None, 6272)              0         \n",
            "                                                                 \n",
            " dropout_4 (Dropout)         (None, 6272)              0         \n",
            "                                                                 \n",
            " dense_8 (Dense)             (None, 512)               3211776   \n",
            "                                                                 \n",
            " dense_9 (Dense)             (None, 4)                 2052      \n",
            "                                                                 \n",
            "=================================================================\n",
            "Total params: 3,473,988\n",
            "Trainable params: 3,473,988\n",
            "Non-trainable params: 0\n",
            "_________________________________________________________________\n"
          ]
        }
      ]
    },
    {
      "cell_type": "code",
      "source": [
        "model.compile(loss = 'categorical_crossentropy', optimizer='adam', metrics=['accuracy'])"
      ],
      "metadata": {
        "id": "zDXOcmtQiKOf"
      },
      "execution_count": null,
      "outputs": []
    },
    {
      "cell_type": "code",
      "source": [
        "history = model.fit(\n",
        "        train_generator,\n",
        "        epochs=30,\n",
        "        verbose=1,\n",
        "        validation_data=val_generator)"
      ],
      "metadata": {
        "colab": {
          "base_uri": "https://localhost:8080/"
        },
        "id": "BdAAQAeCiO6w",
        "outputId": "2a17359d-6c00-4b51-ecda-88655664185d"
      },
      "execution_count": null,
      "outputs": [
        {
          "output_type": "stream",
          "name": "stdout",
          "text": [
            "Epoch 1/30\n",
            "25/25 [==============================] - 25s 984ms/step - loss: 1.2815 - accuracy: 0.3942 - val_loss: 1.0233 - val_accuracy: 0.6166\n",
            "Epoch 2/30\n",
            "25/25 [==============================] - 23s 934ms/step - loss: 0.8783 - accuracy: 0.6619 - val_loss: 0.8163 - val_accuracy: 0.6683\n",
            "Epoch 3/30\n",
            "25/25 [==============================] - 25s 984ms/step - loss: 0.7440 - accuracy: 0.7301 - val_loss: 0.7413 - val_accuracy: 0.7100\n",
            "Epoch 4/30\n",
            "25/25 [==============================] - 23s 939ms/step - loss: 0.6442 - accuracy: 0.7553 - val_loss: 0.6943 - val_accuracy: 0.7137\n",
            "Epoch 5/30\n",
            "25/25 [==============================] - 23s 929ms/step - loss: 0.5758 - accuracy: 0.7789 - val_loss: 0.6554 - val_accuracy: 0.7276\n",
            "Epoch 6/30\n",
            "25/25 [==============================] - 23s 933ms/step - loss: 0.5256 - accuracy: 0.8004 - val_loss: 0.6620 - val_accuracy: 0.7453\n",
            "Epoch 7/30\n",
            "25/25 [==============================] - 25s 986ms/step - loss: 0.4537 - accuracy: 0.8281 - val_loss: 0.5804 - val_accuracy: 0.7755\n",
            "Epoch 8/30\n",
            "25/25 [==============================] - 24s 944ms/step - loss: 0.4107 - accuracy: 0.8474 - val_loss: 0.5578 - val_accuracy: 0.7793\n",
            "Epoch 9/30\n",
            "25/25 [==============================] - 24s 946ms/step - loss: 0.3629 - accuracy: 0.8587 - val_loss: 0.4965 - val_accuracy: 0.8096\n",
            "Epoch 10/30\n",
            "25/25 [==============================] - 23s 935ms/step - loss: 0.3135 - accuracy: 0.8858 - val_loss: 0.4801 - val_accuracy: 0.8298\n",
            "Epoch 11/30\n",
            "25/25 [==============================] - 25s 997ms/step - loss: 0.2604 - accuracy: 0.9070 - val_loss: 0.4487 - val_accuracy: 0.8449\n",
            "Epoch 12/30\n",
            "25/25 [==============================] - 23s 939ms/step - loss: 0.2332 - accuracy: 0.9136 - val_loss: 0.3925 - val_accuracy: 0.8525\n",
            "Epoch 13/30\n",
            "25/25 [==============================] - 23s 934ms/step - loss: 0.1573 - accuracy: 0.9432 - val_loss: 0.5004 - val_accuracy: 0.8398\n",
            "Epoch 14/30\n",
            "25/25 [==============================] - 24s 982ms/step - loss: 0.1468 - accuracy: 0.9439 - val_loss: 0.4460 - val_accuracy: 0.8651\n",
            "Epoch 15/30\n",
            "25/25 [==============================] - 23s 932ms/step - loss: 0.0863 - accuracy: 0.9688 - val_loss: 0.4746 - val_accuracy: 0.8600\n",
            "Epoch 16/30\n",
            "25/25 [==============================] - 23s 934ms/step - loss: 0.0853 - accuracy: 0.9707 - val_loss: 0.4335 - val_accuracy: 0.8600\n",
            "Epoch 17/30\n",
            "25/25 [==============================] - 23s 934ms/step - loss: 0.0659 - accuracy: 0.9779 - val_loss: 0.4834 - val_accuracy: 0.8777\n",
            "Epoch 18/30\n",
            "25/25 [==============================] - 25s 988ms/step - loss: 0.0543 - accuracy: 0.9833 - val_loss: 0.5352 - val_accuracy: 0.8701\n",
            "Epoch 19/30\n",
            "25/25 [==============================] - 23s 934ms/step - loss: 0.0651 - accuracy: 0.9804 - val_loss: 0.5927 - val_accuracy: 0.8474\n",
            "Epoch 20/30\n",
            "25/25 [==============================] - 23s 928ms/step - loss: 0.0886 - accuracy: 0.9713 - val_loss: 0.5120 - val_accuracy: 0.8663\n",
            "Epoch 21/30\n",
            "25/25 [==============================] - 23s 940ms/step - loss: 0.0501 - accuracy: 0.9849 - val_loss: 0.4383 - val_accuracy: 0.8865\n",
            "Epoch 22/30\n",
            "25/25 [==============================] - 25s 1s/step - loss: 0.0405 - accuracy: 0.9861 - val_loss: 0.4960 - val_accuracy: 0.8802\n",
            "Epoch 23/30\n",
            "25/25 [==============================] - 23s 930ms/step - loss: 0.0301 - accuracy: 0.9909 - val_loss: 0.5376 - val_accuracy: 0.8739\n",
            "Epoch 24/30\n",
            "25/25 [==============================] - 24s 957ms/step - loss: 0.0157 - accuracy: 0.9959 - val_loss: 0.5484 - val_accuracy: 0.8789\n",
            "Epoch 25/30\n",
            "25/25 [==============================] - 24s 984ms/step - loss: 0.0121 - accuracy: 0.9965 - val_loss: 0.6076 - val_accuracy: 0.8878\n",
            "Epoch 26/30\n",
            "25/25 [==============================] - 23s 932ms/step - loss: 0.0199 - accuracy: 0.9946 - val_loss: 0.6040 - val_accuracy: 0.8852\n",
            "Epoch 27/30\n",
            "25/25 [==============================] - 23s 930ms/step - loss: 0.0436 - accuracy: 0.9842 - val_loss: 0.6542 - val_accuracy: 0.8663\n",
            "Epoch 28/30\n",
            "25/25 [==============================] - 23s 936ms/step - loss: 0.0425 - accuracy: 0.9858 - val_loss: 0.5473 - val_accuracy: 0.8852\n",
            "Epoch 29/30\n",
            "25/25 [==============================] - 25s 987ms/step - loss: 0.0300 - accuracy: 0.9896 - val_loss: 0.6229 - val_accuracy: 0.8878\n",
            "Epoch 30/30\n",
            "25/25 [==============================] - 23s 928ms/step - loss: 0.0305 - accuracy: 0.9890 - val_loss: 0.5497 - val_accuracy: 0.8789\n"
          ]
        }
      ]
    },
    {
      "cell_type": "markdown",
      "source": [
        "## Evaluasi"
      ],
      "metadata": {
        "id": "d5h5ree7kB0h"
      }
    },
    {
      "cell_type": "code",
      "source": [
        "plt.plot(history.history['accuracy'])\n",
        "plt.plot(history.history['val_accuracy'])\n",
        "plt.title('model accuracy')\n",
        "plt.ylabel('accuracy')\n",
        "plt.xlabel('epoch')\n",
        "plt.legend(['train', 'val'], loc='upper left')\n",
        "plt.show()"
      ],
      "metadata": {
        "colab": {
          "base_uri": "https://localhost:8080/",
          "height": 295
        },
        "id": "wFkps3pIinZp",
        "outputId": "eb255184-c88d-43ad-a1d3-4fd60ab630d4"
      },
      "execution_count": null,
      "outputs": [
        {
          "output_type": "display_data",
          "data": {
            "text/plain": [
              "<Figure size 432x288 with 1 Axes>"
            ],
            "image/png": "[encoded data removed]"
          },
          "metadata": {
            "needs_background": "light"
          }
        }
      ]
    }
  ]
}